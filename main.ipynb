{
 "cells": [
  {
   "cell_type": "code",
   "execution_count": 1,
   "metadata": {},
   "outputs": [
    {
     "name": "stdout",
     "output_type": "stream",
     "text": [
      "Requirement already satisfied: beautifulsoup4==4.10.0 in /Users/nathanoasis/opt/anaconda3/lib/python3.8/site-packages (from -r requirements.txt (line 1)) (4.10.0)\n",
      "Requirement already satisfied: certifi==2021.10.8 in /Users/nathanoasis/opt/anaconda3/lib/python3.8/site-packages (from -r requirements.txt (line 2)) (2021.10.8)\n",
      "Requirement already satisfied: charset-normalizer==2.0.9 in /Users/nathanoasis/opt/anaconda3/lib/python3.8/site-packages (from -r requirements.txt (line 3)) (2.0.9)\n",
      "Requirement already satisfied: idna==3.3 in /Users/nathanoasis/opt/anaconda3/lib/python3.8/site-packages (from -r requirements.txt (line 4)) (3.3)\n",
      "Requirement already satisfied: linkedin-api==2.0.0a5 in /Users/nathanoasis/opt/anaconda3/lib/python3.8/site-packages (from -r requirements.txt (line 5)) (2.0.0a5)\n",
      "Requirement already satisfied: lxml==4.7.1 in /Users/nathanoasis/opt/anaconda3/lib/python3.8/site-packages (from -r requirements.txt (line 6)) (4.7.1)\n",
      "Requirement already satisfied: numpy==1.21.5 in /Users/nathanoasis/opt/anaconda3/lib/python3.8/site-packages (from -r requirements.txt (line 7)) (1.21.5)\n",
      "Requirement already satisfied: pandas==1.3.5 in /Users/nathanoasis/opt/anaconda3/lib/python3.8/site-packages (from -r requirements.txt (line 8)) (1.3.5)\n",
      "Requirement already satisfied: pyspark==2.4.4 in /Users/nathanoasis/spark-2.4.4-bin-hadoop2.7/python (from -r requirements.txt (line 9)) (2.4.4)\n",
      "Requirement already satisfied: python-dateutil==2.8.2 in /Users/nathanoasis/opt/anaconda3/lib/python3.8/site-packages (from -r requirements.txt (line 10)) (2.8.2)\n",
      "Requirement already satisfied: pytz==2021.3 in /Users/nathanoasis/opt/anaconda3/lib/python3.8/site-packages (from -r requirements.txt (line 11)) (2021.3)\n",
      "Requirement already satisfied: requests==2.26.0 in /Users/nathanoasis/opt/anaconda3/lib/python3.8/site-packages (from -r requirements.txt (line 12)) (2.26.0)\n",
      "Requirement already satisfied: six==1.16.0 in /Users/nathanoasis/opt/anaconda3/lib/python3.8/site-packages (from -r requirements.txt (line 13)) (1.16.0)\n",
      "Requirement already satisfied: soupsieve==2.3.1 in /Users/nathanoasis/opt/anaconda3/lib/python3.8/site-packages (from -r requirements.txt (line 14)) (2.3.1)\n",
      "Requirement already satisfied: tqdm==4.62.3 in /Users/nathanoasis/opt/anaconda3/lib/python3.8/site-packages (from -r requirements.txt (line 15)) (4.62.3)\n",
      "Requirement already satisfied: urllib3==1.26.7 in /Users/nathanoasis/opt/anaconda3/lib/python3.8/site-packages (from -r requirements.txt (line 16)) (1.26.7)\n",
      "Requirement already satisfied: py4j==0.10.7 in /Users/nathanoasis/opt/anaconda3/lib/python3.8/site-packages (from pyspark==2.4.4->-r requirements.txt (line 9)) (0.10.7)\n"
     ]
    }
   ],
   "source": [
    "'''Make sure to have requirements installed.'''\n",
    "!pip3 install -r requirements.txt"
   ]
  },
  {
   "cell_type": "code",
   "execution_count": 2,
   "metadata": {},
   "outputs": [],
   "source": [
    "from linkedin_api import Linkedin\n",
    "import pandas as pd\n",
    "import logging\n",
    "from tqdm.notebook import tqdm"
   ]
  },
  {
   "cell_type": "markdown",
   "metadata": {},
   "source": [
    "#### The Linkedin API could not be subclassed because the requirements of the underlying client are unknown. Nevertheless, a class is a good way to limit unneeded access as well as structure data and requests. Leveraging this unofficial Linkedin API, LinkedIn_Requests provides the functionality for the usecase.\n",
    "\n",
    "#### To see the full availible functionality of the API, read the docs here: https://linkedin-api.readthedocs.io/en/latest/api.html"
   ]
  },
  {
   "cell_type": "code",
   "execution_count": 3,
   "metadata": {},
   "outputs": [],
   "source": [
    "class LinkedIn_Requests:\n",
    "    def __init__(self, email, pwd, logger):\n",
    "        self.auth = Linkedin(email, pwd)\n",
    "        my_profile = self.auth.get_user_profile()\n",
    "        self.my_name = my_profile['miniProfile']['firstName'] + ' ' + my_profile['miniProfile']['lastName']\n",
    "        self.logger = logger\n",
    "\n",
    "    '''Returns LinkedIn URIs from LinkedIn person search'''\n",
    "    def get_person_profile_ids(self, name, company):\n",
    "        search_result = self.__search_person_handler(name, company)\n",
    "        if search_result:\n",
    "            res = search_result[0]\n",
    "            return res['urn_id'], res['public_id']\n",
    "        return None\n",
    "    \n",
    "    '''Handler for search results'''\n",
    "    def __search_person_handler(self, name, company):\n",
    "        try:\n",
    "            name.encode('ascii')\n",
    "            company.encode('ascii')\n",
    "            pass\n",
    "        except:\n",
    "            self.logger.warning(f\"The search terms {name} {company} contain non-ascii characters.\")\n",
    "            \n",
    "        search_result = self.__search_person(name, company)\n",
    "        number_of_matches = len(search_result)\n",
    "        \n",
    "        #returns value IFF one search result\n",
    "        if number_of_matches == 1:\n",
    "            return search_result\n",
    "        else:\n",
    "            self.logger.error(f'Found {number_of_matches} matches for {name} working at {company}. Skipping.')\n",
    "            return None\n",
    "    \n",
    "    '''\n",
    "        Perform a LinkedIn search for people.\n",
    "        Using the general keywords param was found more reliable than the more specific params offered.\n",
    "    '''\n",
    "    def __search_person(self, name, company):\n",
    "        return self.auth.search_people(keywords=' '.join([name, company]), limit=1)\n",
    "#         return self.auth.search_people(keywords=name, keyword_company = company)\n",
    "    \n",
    "    '''Returns the first-degree connections for a given LinkedIn profile to this auth'd profile.'''\n",
    "    def get_profile_connections(self, urn_id):\n",
    "        return self.auth.get_profile_connections(urn_id)\n",
    "    \n",
    "    '''Returns the email of the target user.'''\n",
    "    def get_email(self, _public_id=None, _urn_id=None):\n",
    "        contact_info = self.__get_profile_contact_info(_public_id, _urn_id)\n",
    "        return contact_info['email_address']\n",
    "    \n",
    "    '''Returns name of given user'''\n",
    "    def get_name(self, _public_id=None, _urn_id=None):\n",
    "        profile = self.__get_profile(_public_id, _urn_id)\n",
    "        return profile['firstName'] + ' ' + profile['lastName']\n",
    "    \n",
    "    '''Fetch data for a given LinkedIn profile. Pass a {public_id} or a {urn_id}.'''\n",
    "    def __get_profile(self, _public_id=None, _urn_id=None):\n",
    "        return self.auth.get_profile(public_id=_public_id, urn_id=_urn_id)\n",
    "    \n",
    "    '''Fetch contact information for a given LinkedIn profile. Pass a {public_id} or a {urn_id}.'''\n",
    "    def __get_profile_contact_info(self, _public_id=None, _urn_id=None):\n",
    "        return self.auth.get_profile_contact_info(public_id=_public_id, urn_id=_urn_id)"
   ]
  },
  {
   "cell_type": "code",
   "execution_count": 4,
   "metadata": {},
   "outputs": [],
   "source": [
    "def read_input(path, required_cols = ['Primary Contact', 'Company Name']):\n",
    "    pitchbook_input_csv = pd.read_csv(path, encoding='latin1')\n",
    "    pitchbook_input_csv.dropna(axis=1, inplace=True)\n",
    "    assert all([col in pitchbook_input_csv.columns for col in required_cols]), f'Required columns of {required_cols} are not all present in the input.'\n",
    "    return pitchbook_input_csv\n",
    "\n",
    "def read_config(path):\n",
    "    read_in_path = False\n",
    "    read_out_path = False\n",
    "    input_file_path = ''\n",
    "    auths = []\n",
    "    with open(path, 'r') as config:\n",
    "        for line in config:\n",
    "            if line.startswith('#') or line == '\\n':\n",
    "                continue\n",
    "            elif not read_in_path:\n",
    "                in_file_path = line.strip('\\n')\n",
    "                read_in_path = True\n",
    "            elif not read_out_path:\n",
    "                out_file_path = line.strip('\\n')\n",
    "                read_out_path = True\n",
    "            else:\n",
    "                auths.append(line.strip('\\n').split(' '))\n",
    "    return in_file_path, out_file_path, auths\n",
    "            "
   ]
  },
  {
   "cell_type": "code",
   "execution_count": 5,
   "metadata": {},
   "outputs": [],
   "source": [
    "class Target_LinkedIn_User:\n",
    "    '''A class to hold data for a linkedin user'''\n",
    "    def __init__(self, contact_name, company, urn_id, email):\n",
    "        self.contact_name = contact_name\n",
    "        self.company = company\n",
    "        self.urn_id = urn_id\n",
    "        self.email = email\n",
    "        self.connection_urns = set()\n",
    "        \n",
    "    def add_connection_urn(self, urn_id):\n",
    "        self.connection_urns.add(urn_id)\n",
    "        \n",
    "    def to_df(self, name_lookup):\n",
    "        arr = self._to_arr(name_lookup)\n",
    "        df = pd.DataFrame(arr).T\n",
    "        df.columns = ['Primary Contact', 'Company Name', 'urn id text', 'linkedin url', 'email', 'connection']\n",
    "        return df\n",
    "        \n",
    "    def _to_arr(self, name_lookup):\n",
    "        return [self.contact_name,\n",
    "                self.company,\n",
    "                self.urn_id,\n",
    "                self._to_li_hyperlink(self.contact_name, self.urn_id),\n",
    "                self.email,\n",
    "                [(self._to_li_hyperlink(name_lookup[urn_id], urn_id)) for urn_id in self.connection_urns]\n",
    "               ]\n",
    "    \n",
    "    def _to_li_hyperlink(self, display_text, urn_id):\n",
    "        return f'=HYPERLINK(\"https://www.linkedin.com/in/{urn_id}/\",\"{display_text}\")'"
   ]
  },
  {
   "cell_type": "code",
   "execution_count": 8,
   "metadata": {},
   "outputs": [],
   "source": [
    "'''\n",
    "    The driver of the program. Takes the config file. \n",
    "'''\n",
    "\n",
    "def main(config_path):\n",
    "    '''Set up a logger'''\n",
    "    Log_Format = \"%(levelname)s %(asctime)s - %(message)s\"\n",
    "    logging.basicConfig(filename = \"logfile.log\",\n",
    "                        filemode = \"a\",\n",
    "                        format = Log_Format, \n",
    "                        level = logging.INFO)\n",
    "    logger = logging.getLogger()\n",
    "\n",
    "    '''read in and set inputs from config file'''\n",
    "    input_file_path, out_file_path, auth_input = read_config(config_path)\n",
    "    pitchbook_input_csv = read_input(input_file_path)\n",
    "    logger.info(f'Read Input. {pitchbook_input_csv.shape[0]} rows.')\n",
    "    auths = [LinkedIn_Requests(email, pwd, logger) for email, pwd in auth_input]\n",
    "    logger.info(f'Authenticated all users.')\n",
    "\n",
    "    '''the name_lookup prevents making repeating calls to the api if connections were to overlap b/t target users.'''\n",
    "    name_lookup = {}\n",
    "    connection_profiles = []\n",
    "\n",
    "    '''find the target users and their connections for all entries in the input'''\n",
    "    for entry in tqdm(pitchbook_input_csv.iterrows(), total=pitchbook_input_csv.shape[0]):\n",
    "        contact_name, company = entry[1]['Primary Contact'], entry[1]['Company Name']\n",
    "\n",
    "        res = auths[0].get_person_profile_ids(contact_name, company)\n",
    "        if res != None:\n",
    "            try:\n",
    "                urn_id, public_id = res\n",
    "                email = auths[0].get_email(_urn_id = urn_id)\n",
    "                target_user = Target_LinkedIn_User(contact_name, company, urn_id, email)\n",
    "                name_lookup[urn_id] = contact_name\n",
    "\n",
    "                '''for a target user, find their connections to the authenticated users.'''\n",
    "                for auth in auths:\n",
    "                    connections = auth.get_profile_connections(urn_id)\n",
    "                    logger.info(f'Authenticated user {auth.my_name} has {len(connections)} connections with {contact_name} working at {company}. Processing.')\n",
    "\n",
    "                    for conn in connections:\n",
    "                        urn_id = conn['urn_id']\n",
    "                        target_user.add_connection_urn(urn_id)\n",
    "\n",
    "                        '''save name of connection'''\n",
    "                        if urn_id not in name_lookup:\n",
    "                            name_lookup[urn_id] = auth.get_name(_urn_id = urn_id)\n",
    "                connection_profiles.append(target_user)\n",
    "                logger.info(f'Completed {contact_name} working at {company}')\n",
    "            except Exception as e:\n",
    "                logger.error(f'Unknown failure: {e}')\n",
    "    logger.info(f'Completed Calls to LinkedIn. Now Saving.')\n",
    "    connections_df = pd.concat([conn.to_df(name_lookup) for conn in connection_profiles])\n",
    "    merge_src_and_connections = pitchbook_input_csv.merge(connections_df, on=['Primary Contact', 'Company Name'])\n",
    "    merged = merge_src_and_connections.explode('connection')\n",
    "    try:\n",
    "        merged.to_excel(out_file_path, index=False)\n",
    "        logger.info(f'Successfully saved to {out_file_path}')\n",
    "    except Exception as e:\n",
    "        logger.error(f'Save Failed. {e}')\n",
    "    finally:\n",
    "        logger.info('EOP')\n"
   ]
  },
  {
   "cell_type": "code",
   "execution_count": 9,
   "metadata": {
    "scrolled": false
   },
   "outputs": [
    {
     "name": "stdout",
     "output_type": "stream",
     "text": [
      "hi\n"
     ]
    },
    {
     "data": {
      "application/vnd.jupyter.widget-view+json": {
       "model_id": "bf64b5f6e8904a78814a4b4234eadf6a",
       "version_major": 2,
       "version_minor": 0
      },
      "text/plain": [
       "  0%|          | 0/2 [00:00<?, ?it/s]"
      ]
     },
     "metadata": {},
     "output_type": "display_data"
    }
   ],
   "source": [
    "if __name__ == '__main__':\n",
    "    config_file = r'/Users/nathanoasis/Downloads/config.csv'\n",
    "    main(config_file)"
   ]
  },
  {
   "cell_type": "code",
   "execution_count": null,
   "metadata": {},
   "outputs": [],
   "source": []
  },
  {
   "cell_type": "code",
   "execution_count": null,
   "metadata": {
    "scrolled": true
   },
   "outputs": [],
   "source": []
  },
  {
   "cell_type": "code",
   "execution_count": null,
   "metadata": {},
   "outputs": [],
   "source": []
  },
  {
   "cell_type": "code",
   "execution_count": null,
   "metadata": {},
   "outputs": [],
   "source": []
  },
  {
   "cell_type": "code",
   "execution_count": null,
   "metadata": {},
   "outputs": [],
   "source": []
  }
 ],
 "metadata": {
  "kernelspec": {
   "display_name": "Python 3 (ipykernel)",
   "language": "python",
   "name": "python3"
  },
  "language_info": {
   "codemirror_mode": {
    "name": "ipython",
    "version": 3
   },
   "file_extension": ".py",
   "mimetype": "text/x-python",
   "name": "python",
   "nbconvert_exporter": "python",
   "pygments_lexer": "ipython3",
   "version": "3.8.12"
  }
 },
 "nbformat": 4,
 "nbformat_minor": 4
}
